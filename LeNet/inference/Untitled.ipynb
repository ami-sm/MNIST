{
 "cells": [
  {
   "cell_type": "code",
   "execution_count": 2,
   "metadata": {},
   "outputs": [],
   "source": [
    "import tensorflow as tf\n",
    "from tensorflow import keras\n",
    "from sklearn.datasets import load_digits\n",
    "from skimage.transform import resize\n",
    "from sklearn import metrics\n",
    "\n",
    "import numpy as np\n",
    "import pandas as pd\n",
    "import matplotlib.pyplot as plt\n",
    "\n",
    "import os\n",
    "import sys\n",
    "\n"
   ]
  },
  {
   "cell_type": "code",
   "execution_count": 3,
   "metadata": {},
   "outputs": [],
   "source": [
    "pathResult = os.chdir(\"../saved\")\n",
    "\n",
    "fileName = [int(fileDate) for fileDate in os.listdir()]\n",
    "fileName = str(max(fileName))\n",
    "\n",
    "os.chdir(fileName)\n",
    "pathSavedModel = os.getcwd()\n",
    "\n",
    "model = keras.models.load_model(pathSavedModel)"
   ]
  },
  {
   "cell_type": "code",
   "execution_count": 4,
   "metadata": {},
   "outputs": [
    {
     "name": "stdout",
     "output_type": "stream",
     "text": [
      "Model: \"sequential\"\n",
      "_________________________________________________________________\n",
      "Layer (type)                 Output Shape              Param #   \n",
      "=================================================================\n",
      "conv2d (Conv2D)              (None, 28, 28, 6)         156       \n",
      "_________________________________________________________________\n",
      "average_pooling2d (AveragePo (None, 14, 14, 6)         0         \n",
      "_________________________________________________________________\n",
      "conv2d_1 (Conv2D)            (None, 14, 14, 16)        2416      \n",
      "_________________________________________________________________\n",
      "average_pooling2d_1 (Average (None, 7, 7, 16)          0         \n",
      "_________________________________________________________________\n",
      "flatten (Flatten)            (None, 784)               0         \n",
      "_________________________________________________________________\n",
      "dense (Dense)                (None, 120)               94200     \n",
      "_________________________________________________________________\n",
      "dense_1 (Dense)              (None, 84)                10164     \n",
      "_________________________________________________________________\n",
      "dense_2 (Dense)              (None, 10)                850       \n",
      "=================================================================\n",
      "Total params: 107,786\n",
      "Trainable params: 107,786\n",
      "Non-trainable params: 0\n",
      "_________________________________________________________________\n"
     ]
    }
   ],
   "source": [
    "model.summary()"
   ]
  },
  {
   "cell_type": "code",
   "execution_count": 5,
   "metadata": {},
   "outputs": [
    {
     "name": "stdout",
     "output_type": "stream",
     "text": [
      "              precision    recall  f1-score   support\n",
      "\n",
      "           0       0.99      0.90      0.94       178\n",
      "           1       0.83      0.10      0.19       182\n",
      "           2       0.70      0.84      0.77       177\n",
      "           3       0.51      0.99      0.68       183\n",
      "           4       0.87      0.38      0.53       181\n",
      "           5       0.81      0.90      0.85       182\n",
      "           6       0.53      0.92      0.67       181\n",
      "           7       0.29      0.03      0.05       179\n",
      "           8       0.50      1.00      0.66       174\n",
      "           9       0.34      0.16      0.22       180\n",
      "\n",
      "    accuracy                           0.62      1797\n",
      "   macro avg       0.64      0.62      0.56      1797\n",
      "weighted avg       0.64      0.62      0.55      1797\n",
      "\n",
      "True: 1116\n",
      "False: 681\n"
     ]
    }
   ],
   "source": [
    "data = load_digits(as_frame=True)\n",
    "# digit.data.shape - (1797, 64) = 8*8\n",
    "# n = digit.data.reshape(8, 8, 1)\n",
    "test = data.images\n",
    "type(test)\n",
    "a=0\n",
    "b=0\n",
    "predicted=[]\n",
    "for i in range(len(data.data)):\n",
    "    digit = test[i]\n",
    "#     plt.gray() \n",
    "#     plt.matshow(digit) \n",
    "#     plt.show() \n",
    "    digit = resize(digit, (28, 28))\n",
    "#     plt.gray() \n",
    "#     plt.matshow(digit) \n",
    "#     plt.show() \n",
    "    digit = digit.reshape(1, 28, 28)\n",
    "    digit = tf.expand_dims(digit, 3)\n",
    "    \n",
    "    pred = model.predict(digit)\n",
    "    pred = [np.argmax(x) for x in pred]\n",
    "    predicted.append(pred)\n",
    "    \n",
    "    if pred[0] == data.target[i]:\n",
    "        a=a+1\n",
    "    else:\n",
    "        b=b+1\n",
    "\n",
    "#print(pred, data.target[i])\n",
    "result = metrics.classification_report(data.target, predicted)\n",
    "print(result)\n",
    "print(\"True:\",a)\n",
    "print(\"False:\",b)\n",
    "# print(type(digit))\n",
    "# print(digit.shape)\n",
    "# print(digit)"
   ]
  },
  {
   "cell_type": "code",
   "execution_count": 6,
   "metadata": {},
   "outputs": [
    {
     "data": {
      "text/plain": [
       "682.0"
      ]
     },
     "execution_count": 6,
     "metadata": {},
     "output_type": "execute_result"
    }
   ],
   "source": [
    "a/a+b"
   ]
  },
  {
   "cell_type": "code",
   "execution_count": 7,
   "metadata": {},
   "outputs": [
    {
     "data": {
      "text/plain": [
       "[8]"
      ]
     },
     "execution_count": 7,
     "metadata": {},
     "output_type": "execute_result"
    }
   ],
   "source": [
    "pred = model.predict(digit)\n",
    "pred = [np.argmax(x) for x in pred]\n",
    "pred"
   ]
  },
  {
   "cell_type": "code",
   "execution_count": 8,
   "metadata": {},
   "outputs": [
    {
     "name": "stdout",
     "output_type": "stream",
     "text": [
      "(1797, 64)\n",
      "(1797,)\n"
     ]
    }
   ],
   "source": [
    "print(data.data.shape)\n",
    "print(data.target.shape)"
   ]
  },
  {
   "cell_type": "code",
   "execution_count": null,
   "metadata": {},
   "outputs": [],
   "source": []
  },
  {
   "cell_type": "code",
   "execution_count": null,
   "metadata": {},
   "outputs": [],
   "source": []
  },
  {
   "cell_type": "code",
   "execution_count": 9,
   "metadata": {},
   "outputs": [
    {
     "data": {
      "text/plain": [
       "0       0\n",
       "1       1\n",
       "2       2\n",
       "3       3\n",
       "4       4\n",
       "       ..\n",
       "1792    9\n",
       "1793    0\n",
       "1794    8\n",
       "1795    9\n",
       "1796    8\n",
       "Name: target, Length: 1797, dtype: int32"
      ]
     },
     "execution_count": 9,
     "metadata": {},
     "output_type": "execute_result"
    }
   ],
   "source": [
    "data.target"
   ]
  },
  {
   "cell_type": "code",
   "execution_count": null,
   "metadata": {},
   "outputs": [],
   "source": []
  }
 ],
 "metadata": {
  "kernelspec": {
   "display_name": "Python 3",
   "language": "python",
   "name": "python3"
  },
  "language_info": {
   "codemirror_mode": {
    "name": "ipython",
    "version": 3
   },
   "file_extension": ".py",
   "mimetype": "text/x-python",
   "name": "python",
   "nbconvert_exporter": "python",
   "pygments_lexer": "ipython3",
   "version": "3.8.1"
  }
 },
 "nbformat": 4,
 "nbformat_minor": 4
}
