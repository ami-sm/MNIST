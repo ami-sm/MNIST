{
 "cells": [
  {
   "cell_type": "code",
   "execution_count": 1,
   "metadata": {
    "_cell_guid": "79c7e3d0-c299-4dcb-8224-4455121ee9b0",
    "_uuid": "d629ff2d2480ee46fbb7e2d37f6b5fab8052498a"
   },
   "outputs": [],
   "source": [
    "import tensorflow as tf\n",
    "import numpy as np\n",
    "\n",
    "from tensorflow import keras\n",
    "from matplotlib import pyplot as plt"
   ]
  },
  {
   "cell_type": "markdown",
   "metadata": {},
   "source": [
    "# Prepare the data"
   ]
  },
  {
   "cell_type": "code",
   "execution_count": 2,
   "metadata": {},
   "outputs": [],
   "source": [
    "(train_x, train_y), (test_x, test_y) = keras.datasets.mnist.load_data()\n",
    "train_x = train_x / 255.0\n",
    "test_x = test_x / 255.0\n",
    "\n",
    "train_x = tf.expand_dims(train_x, 3)\n",
    "test_x = tf.expand_dims(test_x, 3)\n",
    "\n",
    "val_x = train_x[:5000]\n",
    "val_y = train_y[:5000]"
   ]
  },
  {
   "cell_type": "markdown",
   "metadata": {},
   "source": [
    "# Using Tanh hyperbolic Activation function"
   ]
  },
  {
   "cell_type": "code",
   "execution_count": 5,
   "metadata": {},
   "outputs": [
    {
     "name": "stdout",
     "output_type": "stream",
     "text": [
      "Epoch 1/5\n",
      "1875/1875 [==============================] - 22s 12ms/step - loss: 0.2288 - accuracy: 0.9310 - val_loss: 0.0938 - val_accuracy: 0.9728\n",
      "Epoch 2/5\n",
      "1875/1875 [==============================] - 21s 11ms/step - loss: 0.0883 - accuracy: 0.9726 - val_loss: 0.0541 - val_accuracy: 0.9842\n",
      "Epoch 3/5\n",
      "1875/1875 [==============================] - 22s 12ms/step - loss: 0.0611 - accuracy: 0.9815 - val_loss: 0.0349 - val_accuracy: 0.9912\n",
      "Epoch 4/5\n",
      "1875/1875 [==============================] - 22s 12ms/step - loss: 0.0472 - accuracy: 0.9858 - val_loss: 0.0306 - val_accuracy: 0.9896\n",
      "Epoch 5/5\n",
      "1875/1875 [==============================] - 21s 11ms/step - loss: 0.0380 - accuracy: 0.9882 - val_loss: 0.0238 - val_accuracy: 0.9930\n",
      "313/313 [==============================] - 2s 5ms/step - loss: 0.0502 - accuracy: 0.9860\n"
     ]
    },
    {
     "data": {
      "text/plain": [
       "[0.050183869898319244, 0.9860000014305115]"
      ]
     },
     "execution_count": 5,
     "metadata": {},
     "output_type": "execute_result"
    }
   ],
   "source": [
    "lenetTanh = keras.models.Sequential([\n",
    "    keras.layers.Conv2D(6, kernel_size=5, strides=1,  activation='tanh', input_shape=train_x[0].shape, padding='same'), #C1\n",
    "    keras.layers.AveragePooling2D(), #S2\n",
    "    keras.layers.Conv2D(16, kernel_size=5, strides=1, activation='tanh', padding='valid'), #C3\n",
    "    keras.layers.AveragePooling2D(), #S4\n",
    "    keras.layers.Flatten(), #Flatten:The purpose of this layer is to transform its input to a 1-dimensional array that can be fed into the subsequent dense layers.\n",
    "    keras.layers.Dense(120, activation='tanh'), #C5\n",
    "    keras.layers.Dense(84, activation='tanh'), #F6\n",
    "    keras.layers.Dense(10, activation='softmax') #Output layer:10 number of classes\n",
    "])\n",
    "lenetTanh.compile(optimizer='adam', loss=keras.losses.sparse_categorical_crossentropy, metrics=['accuracy'])\n",
    "lenetTanh.fit(train_x, train_y, epochs=5, validation_data=(val_x, val_y))\n",
    "lenetTanh.evaluate(test_x, test_y)"
   ]
  },
  {
   "cell_type": "markdown",
   "metadata": {},
   "source": [
    "# Using Rectified Linear Activation function ReLu"
   ]
  },
  {
   "cell_type": "code",
   "execution_count": 3,
   "metadata": {},
   "outputs": [
    {
     "name": "stdout",
     "output_type": "stream",
     "text": [
      "Epoch 1/5\n",
      "1875/1875 [==============================] - 22s 12ms/step - loss: 0.2004 - accuracy: 0.9403 - val_loss: 0.0719 - val_accuracy: 0.9788\n",
      "Epoch 2/5\n",
      "1875/1875 [==============================] - 27s 15ms/step - loss: 0.0667 - accuracy: 0.9793 - val_loss: 0.0429 - val_accuracy: 0.9878\n",
      "Epoch 3/5\n",
      "1875/1875 [==============================] - 21s 11ms/step - loss: 0.0479 - accuracy: 0.9851 - val_loss: 0.0311 - val_accuracy: 0.9920\n",
      "Epoch 4/5\n",
      "1875/1875 [==============================] - 22s 12ms/step - loss: 0.0370 - accuracy: 0.9884 - val_loss: 0.0305 - val_accuracy: 0.9912\n",
      "Epoch 5/5\n",
      "1875/1875 [==============================] - 21s 11ms/step - loss: 0.0300 - accuracy: 0.9903 - val_loss: 0.0275 - val_accuracy: 0.9916\n",
      "313/313 [==============================] - 2s 5ms/step - loss: 0.0302 - accuracy: 0.9905\n"
     ]
    },
    {
     "data": {
      "text/plain": [
       "[0.03024970181286335, 0.9904999732971191]"
      ]
     },
     "execution_count": 3,
     "metadata": {},
     "output_type": "execute_result"
    }
   ],
   "source": [
    "lenetRelu = keras.models.Sequential([\n",
    "    keras.layers.Conv2D(6, kernel_size=5, strides=1,  activation='relu', input_shape=train_x[0].shape, padding='same'), #C1\n",
    "    keras.layers.AveragePooling2D(), #S2\n",
    "    keras.layers.Conv2D(16, kernel_size=5, strides=1, activation='relu', padding='valid'), #C3\n",
    "    keras.layers.AveragePooling2D(), #S4\n",
    "    keras.layers.Flatten(), #Flatten:The purpose of this layer is to transform its input to a 1-dimensional array that can be fed into the subsequent dense layers.\n",
    "    keras.layers.Dense(120, activation='relu'), #C5\n",
    "    keras.layers.Dense(84, activation='relu'), #F6\n",
    "    keras.layers.Dense(10, activation='softmax') #Output layer:10 number of classes\n",
    "])\n",
    "lenetRelu.compile(optimizer='adam', loss=keras.losses.sparse_categorical_crossentropy, metrics=['accuracy'])\n",
    "lenetRelu.fit(train_x, train_y, epochs=5, validation_data=(val_x, val_y))\n",
    "lenetRelu.evaluate(test_x, test_y)"
   ]
  },
  {
   "cell_type": "markdown",
   "metadata": {},
   "source": [
    "# Using Logistic function sigmoid"
   ]
  },
  {
   "cell_type": "code",
   "execution_count": 6,
   "metadata": {},
   "outputs": [
    {
     "name": "stdout",
     "output_type": "stream",
     "text": [
      "Epoch 1/5\n",
      "1875/1875 [==============================] - 22s 12ms/step - loss: 0.7732 - accuracy: 0.7466 - val_loss: 0.2335 - val_accuracy: 0.9330\n",
      "Epoch 2/5\n",
      "1875/1875 [==============================] - 22s 12ms/step - loss: 0.1987 - accuracy: 0.9404 - val_loss: 0.1261 - val_accuracy: 0.9646\n",
      "Epoch 3/5\n",
      "1875/1875 [==============================] - 23s 12ms/step - loss: 0.1295 - accuracy: 0.9606 - val_loss: 0.0898 - val_accuracy: 0.9732\n",
      "Epoch 4/5\n",
      "1875/1875 [==============================] - 22s 12ms/step - loss: 0.0968 - accuracy: 0.9698 - val_loss: 0.0751 - val_accuracy: 0.9784\n",
      "Epoch 5/5\n",
      "1875/1875 [==============================] - 21s 11ms/step - loss: 0.0774 - accuracy: 0.9763 - val_loss: 0.0619 - val_accuracy: 0.9808\n",
      "313/313 [==============================] - 2s 5ms/step - loss: 0.0641 - accuracy: 0.9793\n"
     ]
    },
    {
     "data": {
      "text/plain": [
       "[0.06411708146333694, 0.9793000221252441]"
      ]
     },
     "execution_count": 6,
     "metadata": {},
     "output_type": "execute_result"
    }
   ],
   "source": [
    "lenetSigmoid = keras.models.Sequential([\n",
    "    keras.layers.Conv2D(6, kernel_size=5, strides=1,  activation='sigmoid', input_shape=train_x[0].shape, padding='same'), #C1\n",
    "    keras.layers.AveragePooling2D(), #S2\n",
    "    keras.layers.Conv2D(16, kernel_size=5, strides=1, activation='sigmoid', padding='valid'), #C3\n",
    "    keras.layers.AveragePooling2D(), #S4\n",
    "    keras.layers.Flatten(), #Flatten:The purpose of this layer is to transform its input to a 1-dimensional array that can be fed into the subsequent dense layers.\n",
    "    keras.layers.Dense(120, activation='sigmoid'), #C5\n",
    "    keras.layers.Dense(84, activation='sigmoid'), #F6\n",
    "    keras.layers.Dense(10, activation='softmax') #Output layer:10 number of classes\n",
    "])\n",
    "lenetSigmoid.compile(optimizer='adam', loss=keras.losses.sparse_categorical_crossentropy, metrics=['accuracy'])\n",
    "lenetSigmoid.fit(train_x, train_y, epochs=5, validation_data=(val_x, val_y))\n",
    "lenetSigmoid.evaluate(test_x, test_y)"
   ]
  },
  {
   "cell_type": "markdown",
   "metadata": {},
   "source": [
    "**ReLu Activation function provides the highest accuracy**\n",
    "\n",
    "Now let's use model with ReLu to predict.\n"
   ]
  },
  {
   "cell_type": "code",
   "execution_count": 8,
   "metadata": {},
   "outputs": [
    {
     "data": {
      "text/plain": [
       "<tf.Tensor: shape=(), dtype=int32, numpy=4>"
      ]
     },
     "execution_count": 8,
     "metadata": {},
     "output_type": "execute_result"
    }
   ],
   "source": [
    "type(test_x[0])\n",
    "test_x[0].shape\n",
    "tf.rank(test_x)"
   ]
  },
  {
   "cell_type": "code",
   "execution_count": 56,
   "metadata": {},
   "outputs": [],
   "source": [
    "def pred(model, testData, total):\n",
    "    predictions = model.predict(testData[:total])\n",
    "    result = [np.argmax(a) for a in predictions]\n",
    "    \n",
    "    x = int(np.sqrt(total))\n",
    "    fig, ax = plt.subplots(x, x, sharex=True, sharey=True, figsize=(15, 15))\n",
    "    ax = ax.flatten()\n",
    "    \n",
    "    try:\n",
    "        \n",
    "        for a in range(total+1):\n",
    "            ax[a].imshow(np.squeeze(test_x[a]), cmap=plt.cm.binary)\n",
    "            ax[a].set_title(f'{result[a]}')\n",
    "            \n",
    "    except IndexError as e:\n",
    "        print(\"Oopss sorry\", e)\n"
   ]
  },
  {
   "cell_type": "code",
   "execution_count": 57,
   "metadata": {},
   "outputs": [
    {
     "name": "stdout",
     "output_type": "stream",
     "text": [
      "index 16 is out of bounds for axis 0 with size 16\n"
     ]
    },
    {
     "data": {
      "image/png": "[encoded data removed]",
      "text/plain": [
       "<Figure size 1080x1080 with 16 Axes>"
      ]
     },
     "metadata": {
      "needs_background": "light"
     },
     "output_type": "display_data"
    }
   ],
   "source": [
    "model = lenetRelu\n",
    "data = test_x\n",
    "total = 21\n",
    "pred(model, data, total)"
   ]
  }
 ],
 "metadata": {
  "kernelspec": {
   "display_name": "Python 3",
   "language": "python",
   "name": "python3"
  },
  "language_info": {
   "codemirror_mode": {
    "name": "ipython",
    "version": 3
   },
   "file_extension": ".py",
   "mimetype": "text/x-python",
   "name": "python",
   "nbconvert_exporter": "python",
   "pygments_lexer": "ipython3",
   "version": "3.8.1"
  }
 },
 "nbformat": 4,
 "nbformat_minor": 4
}
